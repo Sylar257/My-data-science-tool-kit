{
  "nbformat": 4,
  "nbformat_minor": 0,
  "metadata": {
    "colab": {
      "name": "FastAI NLP deeper dive.ipynb",
      "provenance": [],
      "include_colab_link": true
    },
    "kernelspec": {
      "name": "python3",
      "display_name": "Python 3"
    },
    "accelerator": "GPU"
  },
  "cells": [
    {
      "cell_type": "markdown",
      "metadata": {
        "id": "view-in-github",
        "colab_type": "text"
      },
      "source": [
        "<a href=\"https://colab.research.google.com/github/Sylar257/My-data-science-tool-kit/blob/master/FastAI_NLP_deeper_dive.ipynb\" target=\"_parent\"><img src=\"https://colab.research.google.com/assets/colab-badge.svg\" alt=\"Open In Colab\"/></a>"
      ]
    },
    {
      "cell_type": "code",
      "metadata": {
        "id": "P0nkKWd8IsP2",
        "colab_type": "code",
        "colab": {}
      },
      "source": [
        "%reload_ext autoreload\n",
        "%autoreload 2\n",
        "%matplotlib inline\n",
        "\n",
        "from fastai import *\n",
        "from fastai.text import *"
      ],
      "execution_count": 0,
      "outputs": []
    },
    {
      "cell_type": "code",
      "metadata": {
        "id": "CTa0aaOxIxaf",
        "colab_type": "code",
        "colab": {}
      },
      "source": [
        "bs = 64"
      ],
      "execution_count": 0,
      "outputs": []
    },
    {
      "cell_type": "code",
      "metadata": {
        "id": "-D11c8jMIyVd",
        "colab_type": "code",
        "colab": {
          "base_uri": "https://localhost:8080/",
          "height": 34
        },
        "outputId": "6fcad935-8e5b-4c82-ba68-132b051c26b0"
      },
      "source": [
        "# this is the sample data which only has a single `csv` file.\n",
        "path_sample = untar_data(URLs.IMDB_SAMPLE)\n",
        "path_sample.ls()"
      ],
      "execution_count": 2,
      "outputs": [
        {
          "output_type": "execute_result",
          "data": {
            "text/plain": [
              "[PosixPath('/root/.fastai/data/imdb_sample/texts.csv')]"
            ]
          },
          "metadata": {
            "tags": []
          },
          "execution_count": 2
        }
      ]
    },
    {
      "cell_type": "code",
      "metadata": {
        "id": "tMJHVOwaJvev",
        "colab_type": "code",
        "colab": {
          "base_uri": "https://localhost:8080/",
          "height": 894
        },
        "outputId": "72b428a5-dd52-4e43-f61f-38f17273d56b"
      },
      "source": [
        "data_lm_sample = TextDataBunch.from_csv(path_sample, 'texts.csv')\n",
        "data_lm_sample.show_batch"
      ],
      "execution_count": 11,
      "outputs": [
        {
          "output_type": "execute_result",
          "data": {
            "text/plain": [
              "<bound method DataBunch.show_batch of TextClasDataBunch;\n",
              "\n",
              "Train: LabelList (799 items)\n",
              "x: TextList\n",
              "xxbos xxmaj terry xxmaj gilliam 's stunning feature - length adaptation of xxmaj chris xxmaj marker 's short film xxup la xxup xxunk is full of mind - xxunk surprises , yet still touches your heart thanks to the superb cast . xxmaj gilliam 's flair for the xxunk works with the script by xxmaj david and xxmaj janet xxmaj peoples to play with your head as much as it does with poor xxmaj james xxmaj cole ( xxmaj willis at his most xxmaj steve mcqueen - like -- better than mcqueen , even ! ) , a time - traveling convict from the future who literally does n't know whether he 's coming or going as a team of scientists keeps sending him back to the wrong eras while trying to prevent a 1995 plague that 's deadly to humans but harmless to animals . xxmaj willis , the xxunk xxmaj oscar - nominated xxmaj brad xxmaj pitt , and xxmaj madeline xxmaj xxunk as a well - meaning psychiatrist give some of the best performances of their careers . xxmaj even xxmaj paul xxmaj xxunk 's tango - style score is haunting . xxmaj this one 's a don't - miss !,xxbos xxup swing ! is an important film because it 's one of the remaining xxmaj black - produced and acted films from the 1930s . xxmaj many of these films have simply deteriorated so badly that they are unwatchable , but this one is in fairly good shape . xxmaj it 's also a nice chance to see many of the talented xxmaj black performers of the period just after the heyday of the old xxmaj xxunk xxmaj club -- a time all but forgotten today . \n",
              " \n",
              "  xxmaj unfortunately , while the film is xxunk important and has some lovely performances , it 's also a mess . xxmaj the main plot is very similar to the xxmaj hollywood xxunk of the era -- including a prima donna who is going to ruin the show and the surprise unknown who appears from no where to save the day . xxmaj however , the writing is just god - awful and a bit trashy at times -- and projects images of xxmaj black xxmaj america that some might find a bit xxunk . xxmaj this is because before the plot really gets going , you are treated to a no - account xxunk who lives off his hard working wife ( a popular stereotype of the time ) and when he is caught with a xxunk ( who , by the way , totally xxunk this role ) , they have a fight which looks like a scene from xxup xxunk xxmaj xxunk ! xxmaj and , the one lady wants to cut the other lady with a straight razor -- a trashy scene indeed ! xxmaj later in the film , when the prima donna is behaving xxunk , her husband punches her in the face and everyone xxunk him ! xxmaj it seems like the film , at times , wants to appeal to the lowest common denominator in the audience xxup plus they ca n't even do this well -- with some of the worst acting i 've seen in a very long time . \n",
              " \n",
              "  xxmaj still , if you can look past a lousy production in just about every way ( with trashy characters , bad acting and direction and poor writing ) , this one might be worth a xxunk so you can see excellent singing and tap dancing -- as well as to catch a glimpse of forgotten xxmaj black culture . xxmaj just do n't say i did n't warn you about the acting -- it 's really , really bad !,xxbos xxmaj an ultra - modern house in an affluent neighborhood appears to be the cause of each of its inhabitants bizarre ( and deadly ) behavior . xxmaj or at least that is what xxmaj lara xxmaj flynn xxmaj boyle 's character , xxmaj col xxmaj kennedy , xxunk . xxmaj after a series of deadly xxunk in a gargantuan house next door , xxmaj col knows something has got to give . xxmaj mark - xxmaj paul xxmaj xxunk also stars as the mysterious architect . \n",
              " \n",
              "  xxmaj my opinion : xxmaj the xxmaj house xxmaj next xxmaj door works because of xxmaj lara xxmaj flynn xxmaj boyle and the locations ( beautiful house ) and stylish sets . xxmaj boyle is a talented and dynamic actress , not to mention absolutely stunning . xxmaj she brings credibility to her character and makes the film intriguing . xxmaj without her , it would have failed . \" xxmaj it 's so alive \" xxunk a prospective xxunk in reference to the house . xxmaj yes , it is alive . xxmaj but the story itself is not so much . \n",
              " \n",
              "  xxmaj barring xxmaj boyle 's presence , not much is happening here , as an enormous amount of the movie is spent watching or waiting to see how the house will affect its current owners . xxmaj the results are predictable . xxmaj but i liked it anyway . xxmaj the cinematography lends the film a xxunk look . 8 / 10 on account of xxmaj boyle , the premise of an evil ultra - modern house , the locations and cinematography , and set decoration and wardrobe .,xxbos xxmaj possible spoilers re : late - appearing cameos \n",
              " \n",
              "  xxmaj seldom does one see so many fine & memorable character actors ( almost entirely actresses to be precise ) in one film . xxmaj even though a few only appear for cameos , each one is a gem . xxmaj the xxmaj british do this mix of comedy and real - life pathos better than anyone xxup imo , so it is no surprise that most of the actors are xxmaj xxunk . \n",
              " \n",
              "  xxmaj the music is great ; no doubt much had to be dubbed ( does xxmaj leslie xxmaj xxunk * really * play the xxunk so well ? maybe - who knew ? ) xxmaj but xxmaj xxunk xxmaj lane was xxunk herself - her warm xxunk sound still turns my xxunk like few other jazz xxunk . \n",
              " \n",
              "  xxmaj as an aging musician myself , not quite as old and certainly not in that class of course , it was a xxunk film as well -- a great film for anyone whose wondering if they 're past it in their profession or xxunk whatever it may be . xxmaj and of course a great celebration of the life of the stage . \n",
              " \n",
              "  i missed a little of the opening , but a xxunk 9 / 10 -- and it certainly makes we want to see the whole thing .,xxbos xxmaj red xxmaj rock xxmaj west is one of those rare films that keeps you guessing the entire time as to what will happen next . xxmaj nicolas xxmaj cage is mistaken for a contract killer as he enters a small town trying to find work . xxmaj dennis xxmaj hopper is the bad guy and no one plays them better . xxmaj look for a brief appearance by country singing star xxmaj dwight xxmaj yoakam . xxmaj this is a serious drama most of the time but there are some lighter moments . xxmaj what matters is that you will enjoy this low budget but high quality effort !\n",
              "y: CategoryList\n",
              "positive,negative,positive,positive,positive\n",
              "Path: /root/.fastai/data/imdb_sample;\n",
              "\n",
              "Valid: LabelList (201 items)\n",
              "x: TextList\n",
              "xxbos xxmaj this movie was xxunk bad . i do n't think i 've ever seen a movie where every attempt at humor failed as miserably . xxmaj let 's see ... the acting was pathetic , the \" special effects \" where horrible , the plot non - xxunk ... that pretty much sums up this movie . \n",
              " \n",
              " ,xxbos xxmaj viewers xxunk over everything including the title sequence ( now xxup that is funny ) would have us believe this is some sort of cinematic miracle , but , trust me folks , this is one of the most embarrassingly bad films you could ever see , and if you 're not laughing at it five minutes in , i 'd say you 've lost your sense of humor . \n",
              " \n",
              "  xxmaj david xxmaj xxunk plays a doomed and bravado - xxunk xxup xxunk pilot who somehow thinks it appropriate to engage an xxunk ( female ) air traffic xxunk in an emotional conversation about love , just as he 's xxunk to his certain and fiery death . ( xxmaj is n't it romantic ... ) xxmaj of course , he 's xxunk by a xxunk of metaphysical chance , and xxunk up on the beach , just as this same air traffic xxunk is riding by on her xxunk . ( xxmaj they immediately xxunk ) . \n",
              " \n",
              "  xxmaj looking past the bizarre xxunk - erotic xxunk , ( so over the top you really need to refer to them as xxunk , from a naked boy sitting bare - xxunk in the xxunk playing the movie 's twilight - zone - xxunk theme on his little xxunk , to a celestial xxunk so campy / queen - y his makeup is xxunk on more thoroughly than the ladies ' ) , the most bizarre aspects of the movie are how it weaves such bad xxunk of national and racial stereotypes into a convoluted attempt to argue some kind of point about the universal nature and power of love . xxmaj we get it -- fly boys like girls in skirts and heels , and girls like 'em back , and , apparently , all you have to do is cry a little to make it noble enough for your movie to get 10 stars on imdb ... \n",
              " \n",
              "  xxmaj as for the quality of the production , the continuity / editing is poor enough to induce xxunk , and the lighting is , perhaps , even worse than that , but you hardly have time to notice because the script is so bad . xxmaj there are games played with xxmaj technicolor , ( whatever passes for heaven is in black and white if you can figure out the sense in that ) , and xxunk , ( so funny my fellow audience member who usually like movies like this actually xxunk and laughed when then the doc 's xxunk finally ended up in a fiery wreck ) , and freeze - motion , ( which is funniest of all because the female lead is so poor at standing still you know the stage hands were xxunk off camera ) . \n",
              " \n",
              "  xxmaj the best shots are the early ones on the beach , but , after that , it 's all downhill . xxmaj the ( moving like an xxunk is moving ) xxunk is hardly the xxmaj xxunk xxmaj steps , to say the least , and i 'd really xxunk anyone from feeling like they 'd have to see this lame attempt at movie - making on their account . xxmaj the movie overall is bad enough to be funny , and that 's about the best thing i can say for it .,xxbos i gave this movie a 10 because it needed to be rewarded for its scary elements and actors xxup and my god the xxunk ! xxmaj the thing is i do n't want to tell anyone anything about the acting or story because it will ruin the movie . xxmaj but i will recommend that you go straight to your xxunk xxunk right now and rent it ! ( xxmaj do n't forget popcorn ! ),xxbos a bit of xxmaj trivia b / c i ca n't figure out how to xxunk xxmaj trivia : xxmaj in the backdrop of this performance , one of the images is \n",
              " \n",
              "  xxmaj george xxmaj xxunk 's \" a xxmaj sunday xxmaj afternoon on the xxmaj island of xxmaj la xxmaj xxunk xxmaj xxunk \" painting ( seen best in chapter 18 ) , this painting is the subject of a xxmaj xxunk musical xxmaj sunday in the xxmaj park with xxmaj george . \n",
              " \n",
              "  a bit of xxmaj trivia b / c i ca n't figure out how to xxunk xxmaj trivia : xxmaj in the backdrop of this performance , one of the images is \n",
              " \n",
              "  xxmaj george xxmaj xxunk 's \" a xxmaj sunday xxmaj afternoon on the xxmaj island of xxmaj la xxmaj xxunk xxmaj xxunk \" painting ( seen best in chapter 18 ) , this painting is the subject of a xxmaj xxunk musical xxmaj sunday in the xxmaj park with xxmaj george .,xxbos xxmaj roy xxmaj rogers and company try to bring \" xxmaj xxunk \" back to life - it 's a ghost town which may go boom if silver mining is successful . xxmaj andy xxmaj xxunk ( as \" xxmaj cookie \" ) xxunk around . xxmaj jane xxmaj xxunk ( as xxmaj carol ) loses a piece of her xxunk to xxmaj mr. xxmaj rogers ' sharp xxunk . xxmaj xxunk xxmaj willing and the xxmaj xxunk of the xxmaj purple xxmaj xxunk stand - in ( or , is that sing - in ? ) for the xxup xxunk xxmaj bob xxmaj xxunk and the xxmaj sons of the xxmaj pioneers . xxmaj james xxmaj xxunk ( from the xxmaj laurel and xxmaj hardy films ) adds to the \" slapstick \" look of \" xxmaj grand xxmaj xxunk xxmaj trail \" . a loose floor board delivers the winning comedy performance . xxmaj mr. xxmaj xxunk 's xxunk kicks its heels . xxmaj there are xxunk human performances , too - but , the material is n't xxmaj grand . \n",
              " \n",
              "  * * xxmaj grand xxmaj xxunk xxmaj trail ( 1948 ) xxmaj william xxmaj xxunk xxunk xxmaj roy xxmaj rogers , xxmaj jane xxmaj xxunk , xxmaj andy xxmaj xxunk\n",
              "y: CategoryList\n",
              "negative,negative,positive,positive,negative\n",
              "Path: /root/.fastai/data/imdb_sample;\n",
              "\n",
              "Test: None>"
            ]
          },
          "metadata": {
            "tags": []
          },
          "execution_count": 11
        }
      ]
    },
    {
      "cell_type": "code",
      "metadata": {
        "id": "Bkvguj8UJIrv",
        "colab_type": "code",
        "colab": {
          "base_uri": "https://localhost:8080/",
          "height": 134
        },
        "outputId": "c192667d-f637-4f0d-af92-3318f0c897d9"
      },
      "source": [
        "# Full data, we are going to make use of `train`, `test` and `unsup`\n",
        "path = untar_data(URLs.IMDB)\n",
        "path.ls()"
      ],
      "execution_count": 4,
      "outputs": [
        {
          "output_type": "execute_result",
          "data": {
            "text/plain": [
              "[PosixPath('/root/.fastai/data/imdb/train'),\n",
              " PosixPath('/root/.fastai/data/imdb/unsup'),\n",
              " PosixPath('/root/.fastai/data/imdb/tmp_clas'),\n",
              " PosixPath('/root/.fastai/data/imdb/test'),\n",
              " PosixPath('/root/.fastai/data/imdb/README'),\n",
              " PosixPath('/root/.fastai/data/imdb/tmp_lm'),\n",
              " PosixPath('/root/.fastai/data/imdb/imdb.vocab')]"
            ]
          },
          "metadata": {
            "tags": []
          },
          "execution_count": 4
        }
      ]
    },
    {
      "cell_type": "code",
      "metadata": {
        "id": "ggEdnEL9I2L9",
        "colab_type": "code",
        "colab": {}
      },
      "source": [
        "data_lm = (TextList.from_folder(path).filter_by_folder(include=['train','test','unsup']).split_by_rand_pct(0.1, seed=42).label_for_lm().databunch(bs=bs))"
      ],
      "execution_count": 0,
      "outputs": []
    },
    {
      "cell_type": "code",
      "metadata": {
        "id": "XcsYkklsKqjv",
        "colab_type": "code",
        "colab": {
          "base_uri": "https://localhost:8080/",
          "height": 279
        },
        "outputId": "29ebc3b0-3977-4cb1-8d9e-bf59d732b6d1"
      },
      "source": [
        "data_lm.show_batch()"
      ],
      "execution_count": 8,
      "outputs": [
        {
          "output_type": "display_data",
          "data": {
            "text/html": [
              "<table border=\"1\" class=\"dataframe\">\n",
              "  <thead>\n",
              "    <tr style=\"text-align: right;\">\n",
              "      <th>idx</th>\n",
              "      <th>text</th>\n",
              "    </tr>\n",
              "  </thead>\n",
              "  <tbody>\n",
              "    <tr>\n",
              "      <td>0</td>\n",
              "      <td>remake was done well , and it was kind of a guilty pleasure for me . xxmaj bloody , intense , and great special effects . xxmaj in short , a great popcorn movie for any horror fan . \\n \\n  xxmaj which brings us to \" xxmaj the xxmaj hills have eyes 2 \" . xxmaj man , where do i start ? xxmaj the plot , or</td>\n",
              "    </tr>\n",
              "    <tr>\n",
              "      <td>1</td>\n",
              "      <td>there is precious little beyond a short . \\n \\n  xxmaj after an hour we saw variations of the same scene over and over again . i nearly screamed at the screen , \" xxmaj we get it , we get it xxrep 5 ! \" xxmaj it 's amazing that after that left the theatre , we could drive home , watch the xxmaj daily xxmaj show and</td>\n",
              "    </tr>\n",
              "    <tr>\n",
              "      <td>2</td>\n",
              "      <td>stuff is doing my head in . \\n \\n  xxmaj richard xxmaj donner had the idea of ' keep it real ' for his 2 outings . xxmaj and i do find his approach to the special and optical effects to be the most appropriate . xxmaj brian xxmaj singer bombards us with so much xxup cgi that it really takes you out of the story and constantly reminds</td>\n",
              "    </tr>\n",
              "    <tr>\n",
              "      <td>3</td>\n",
              "      <td>future with the class of ' 71 \" ) , the xxmaj phoenician city - where they wear xxmaj roman xxmaj imperial armor but which inexplicably has xxmaj egyptian xxunk xxunk xxunk xxmaj xxunk invented the alphabet - come xxunk worst of all , xxmaj macallum and xxmaj ekland ( with her fright wig ) playing smoochy - face -oh the horror ! xxmaj the best parts are that the</td>\n",
              "    </tr>\n",
              "    <tr>\n",
              "      <td>4</td>\n",
              "      <td>, the younger , has a major cocaine addiction . xxmaj adam , the eldest , is a doctor . xxmaj this movie is suppose to show the plunge from reality to the extreme lows that drugs make possible . xxmaj it however , does not . xxmaj it shows that cocaine can be fun no matter what the situation happens to be present . xxmaj most of the movie</td>\n",
              "    </tr>\n",
              "  </tbody>\n",
              "</table>"
            ],
            "text/plain": [
              "<IPython.core.display.HTML object>"
            ]
          },
          "metadata": {
            "tags": []
          }
        }
      ]
    },
    {
      "cell_type": "code",
      "metadata": {
        "id": "piTdmDxWKtoI",
        "colab_type": "code",
        "colab": {
          "base_uri": "https://localhost:8080/",
          "height": 34
        },
        "outputId": "4dc222db-f1a2-452a-e6b9-68252311ca4a"
      },
      "source": [
        "len(data_lm.vocab.itos),len(data_lm.train_ds),len(data_lm.valid_ds)"
      ],
      "execution_count": 9,
      "outputs": [
        {
          "output_type": "execute_result",
          "data": {
            "text/plain": [
              "(60000, 90000, 10000)"
            ]
          },
          "metadata": {
            "tags": []
          },
          "execution_count": 9
        }
      ]
    },
    {
      "cell_type": "code",
      "metadata": {
        "id": "8PZI29MFUehH",
        "colab_type": "code",
        "colab": {
          "base_uri": "https://localhost:8080/",
          "height": 162
        },
        "outputId": "e6ba6f0a-17f6-446c-b2bc-648b46f90b30"
      },
      "source": [
        "len(data_lm_sample.vocab.itos),len(data_lm_sample.train_ds),len(data_lm_sample.valid_ds)"
      ],
      "execution_count": 7,
      "outputs": [
        {
          "output_type": "error",
          "ename": "NameError",
          "evalue": "ignored",
          "traceback": [
            "\u001b[0;31m---------------------------------------------------------------------------\u001b[0m",
            "\u001b[0;31mNameError\u001b[0m                                 Traceback (most recent call last)",
            "\u001b[0;32m<ipython-input-7-e06a72353479>\u001b[0m in \u001b[0;36m<module>\u001b[0;34m()\u001b[0m\n\u001b[0;32m----> 1\u001b[0;31m \u001b[0mlen\u001b[0m\u001b[0;34m(\u001b[0m\u001b[0mdata_lm_sample\u001b[0m\u001b[0;34m.\u001b[0m\u001b[0mvocab\u001b[0m\u001b[0;34m.\u001b[0m\u001b[0mitos\u001b[0m\u001b[0;34m)\u001b[0m\u001b[0;34m,\u001b[0m\u001b[0mlen\u001b[0m\u001b[0;34m(\u001b[0m\u001b[0mdata_lm_sample\u001b[0m\u001b[0;34m.\u001b[0m\u001b[0mtrain_ds\u001b[0m\u001b[0;34m)\u001b[0m\u001b[0;34m,\u001b[0m\u001b[0mlen\u001b[0m\u001b[0;34m(\u001b[0m\u001b[0mdata_lm_sample\u001b[0m\u001b[0;34m.\u001b[0m\u001b[0mvalid_ds\u001b[0m\u001b[0;34m)\u001b[0m\u001b[0;34m\u001b[0m\u001b[0;34m\u001b[0m\u001b[0m\n\u001b[0m",
            "\u001b[0;31mNameError\u001b[0m: name 'data_lm_sample' is not defined"
          ]
        }
      ]
    },
    {
      "cell_type": "code",
      "metadata": {
        "id": "ZhCqK7FYUin3",
        "colab_type": "code",
        "colab": {
          "base_uri": "https://localhost:8080/",
          "height": 162
        },
        "outputId": "1e81debc-2272-4c4d-d8d7-6882d3d99ba8"
      },
      "source": [
        "data_lm_sample.batch_size"
      ],
      "execution_count": 10,
      "outputs": [
        {
          "output_type": "error",
          "ename": "NameError",
          "evalue": "ignored",
          "traceback": [
            "\u001b[0;31m---------------------------------------------------------------------------\u001b[0m",
            "\u001b[0;31mNameError\u001b[0m                                 Traceback (most recent call last)",
            "\u001b[0;32m<ipython-input-10-9511145afecf>\u001b[0m in \u001b[0;36m<module>\u001b[0;34m()\u001b[0m\n\u001b[0;32m----> 1\u001b[0;31m \u001b[0mdata_lm_sample\u001b[0m\u001b[0;34m.\u001b[0m\u001b[0mbatch_size\u001b[0m\u001b[0;34m\u001b[0m\u001b[0;34m\u001b[0m\u001b[0m\n\u001b[0m",
            "\u001b[0;31mNameError\u001b[0m: name 'data_lm_sample' is not defined"
          ]
        }
      ]
    },
    {
      "cell_type": "code",
      "metadata": {
        "id": "3VhZNeCDUx93",
        "colab_type": "code",
        "colab": {}
      },
      "source": [
        "learn_lm = language_model_learner(data_lm, AWD_LSTM, drop_mult=1.).to_fp16()"
      ],
      "execution_count": 0,
      "outputs": []
    },
    {
      "cell_type": "code",
      "metadata": {
        "id": "7J27RjoAVnKW",
        "colab_type": "code",
        "colab": {
          "base_uri": "https://localhost:8080/",
          "height": 34
        },
        "outputId": "41b9f256-1c5f-492f-fcfe-8432efa76de2"
      },
      "source": [
        "lr = 1e-2\n",
        "lr *= bs/48; lr"
      ],
      "execution_count": 12,
      "outputs": [
        {
          "output_type": "execute_result",
          "data": {
            "text/plain": [
              "0.013333333333333332"
            ]
          },
          "metadata": {
            "tags": []
          },
          "execution_count": 12
        }
      ]
    },
    {
      "cell_type": "code",
      "metadata": {
        "id": "8uE5xC6_WoHL",
        "colab_type": "code",
        "colab": {
          "base_uri": "https://localhost:8080/",
          "height": 94
        },
        "outputId": "19dccb0c-6af6-47b5-9158-ed33cd2f3f78"
      },
      "source": [
        "learn_lm.fit_one_cycle(1, lr, moms=[0.8, 0.7])"
      ],
      "execution_count": 0,
      "outputs": [
        {
          "output_type": "display_data",
          "data": {
            "text/html": [
              "\n",
              "    <div>\n",
              "        <style>\n",
              "            /* Turns off some styling */\n",
              "            progress {\n",
              "                /* gets rid of default border in Firefox and Opera. */\n",
              "                border: none;\n",
              "                /* Needs to be in here for Safari polyfill so background images work as expected. */\n",
              "                background-size: auto;\n",
              "            }\n",
              "            .progress-bar-interrupted, .progress-bar-interrupted::-webkit-progress-bar {\n",
              "                background: #F44336;\n",
              "            }\n",
              "        </style>\n",
              "      <progress value='0' class='' max='1', style='width:300px; height:20px; vertical-align: middle;'></progress>\n",
              "      0.00% [0/1 00:00<00:00]\n",
              "    </div>\n",
              "    \n",
              "<table border=\"1\" class=\"dataframe\">\n",
              "  <thead>\n",
              "    <tr style=\"text-align: left;\">\n",
              "      <th>epoch</th>\n",
              "      <th>train_loss</th>\n",
              "      <th>valid_loss</th>\n",
              "      <th>accuracy</th>\n",
              "      <th>time</th>\n",
              "    </tr>\n",
              "  </thead>\n",
              "  <tbody>\n",
              "  </tbody>\n",
              "</table><p>\n",
              "\n",
              "    <div>\n",
              "        <style>\n",
              "            /* Turns off some styling */\n",
              "            progress {\n",
              "                /* gets rid of default border in Firefox and Opera. */\n",
              "                border: none;\n",
              "                /* Needs to be in here for Safari polyfill so background images work as expected. */\n",
              "                background-size: auto;\n",
              "            }\n",
              "            .progress-bar-interrupted, .progress-bar-interrupted::-webkit-progress-bar {\n",
              "                background: #F44336;\n",
              "            }\n",
              "        </style>\n",
              "      <progress value='536' class='' max='6040', style='width:300px; height:20px; vertical-align: middle;'></progress>\n",
              "      8.87% [536/6040 09:05<1:33:17 4.5713]\n",
              "    </div>\n",
              "    "
            ],
            "text/plain": [
              "<IPython.core.display.HTML object>"
            ]
          },
          "metadata": {
            "tags": []
          }
        }
      ]
    },
    {
      "cell_type": "code",
      "metadata": {
        "id": "c2egCqhMW0KD",
        "colab_type": "code",
        "colab": {}
      },
      "source": [
        "learn_lm.unfreeze()\n",
        "learn_lm.fit_one_cycle(10, lr/10, moms=(0.8,0.7))"
      ],
      "execution_count": 0,
      "outputs": []
    },
    {
      "cell_type": "code",
      "metadata": {
        "id": "K59ofHRwZJjU",
        "colab_type": "code",
        "colab": {}
      },
      "source": [
        "learn_lm.save_encoder('fine_tuned_enc_10')"
      ],
      "execution_count": 0,
      "outputs": []
    },
    {
      "cell_type": "code",
      "metadata": {
        "id": "6UnBxIPlZRun",
        "colab_type": "code",
        "colab": {}
      },
      "source": [
        "data_clas = (TextList.from_folder(path, vocab = data_lm.vocab)\n",
        "             .split_by_folder(valid='test')\n",
        "             .label_from_folder(classes=['pos','neg'])\n",
        "             .databunch(bs=bs))"
      ],
      "execution_count": 0,
      "outputs": []
    },
    {
      "cell_type": "code",
      "metadata": {
        "id": "n_7uLdjSZps4",
        "colab_type": "code",
        "colab": {}
      },
      "source": [
        "learn_c = text_classifier_learner(data_clas, AWD_LSTM, drop_mult = 0.5).to_fp16()\n",
        "learn_c.load_encoder('fine_tuned_enc_10')\n",
        "learn_c.freeze()"
      ],
      "execution_count": 0,
      "outputs": []
    },
    {
      "cell_type": "code",
      "metadata": {
        "id": "kWNM4131Z8WI",
        "colab_type": "code",
        "colab": {}
      },
      "source": [
        "lr = 2e-2\n",
        "lr *= bs/48"
      ],
      "execution_count": 0,
      "outputs": []
    },
    {
      "cell_type": "code",
      "metadata": {
        "id": "ypBy1EQkZ_wA",
        "colab_type": "code",
        "colab": {}
      },
      "source": [
        "learn_c.fit_one_cycle(1, lr, moms=(0.8,0.7))"
      ],
      "execution_count": 0,
      "outputs": []
    },
    {
      "cell_type": "code",
      "metadata": {
        "id": "SZZ5dx-oaGOQ",
        "colab_type": "code",
        "colab": {}
      },
      "source": [
        "learn_c.save('1')"
      ],
      "execution_count": 0,
      "outputs": []
    },
    {
      "cell_type": "code",
      "metadata": {
        "id": "wK00l8QiaJWC",
        "colab_type": "code",
        "colab": {}
      },
      "source": [
        "learn_c.freeze_to(-2)\n",
        "learn_c.fit_one_cycle(1, slice(lr/(2.6**4),lr), moms=(0.8,0.7))"
      ],
      "execution_count": 0,
      "outputs": []
    },
    {
      "cell_type": "code",
      "metadata": {
        "id": "eY4a88HvaUVx",
        "colab_type": "code",
        "colab": {}
      },
      "source": [
        "learn_c.save('2')"
      ],
      "execution_count": 0,
      "outputs": []
    },
    {
      "cell_type": "code",
      "metadata": {
        "id": "05h7xsqLaWhR",
        "colab_type": "code",
        "colab": {}
      },
      "source": [
        "learn_c.freeze_to(-3)\n",
        "learn_c.fit_one_cycle(1, slice(lr/2/(2.6**4),lr/2)"
      ],
      "execution_count": 0,
      "outputs": []
    },
    {
      "cell_type": "code",
      "metadata": {
        "id": "UvhgKuoBabQh",
        "colab_type": "code",
        "colab": {}
      },
      "source": [
        "learn_c.save('3')"
      ],
      "execution_count": 0,
      "outputs": []
    },
    {
      "cell_type": "code",
      "metadata": {
        "id": "n7WCiynWadAp",
        "colab_type": "code",
        "colab": {}
      },
      "source": [
        "learn_c.unfreeze()\n",
        "learn_c.fit_one_cycle(2, slice(lr/10/(2.6**4),lr/10)"
      ],
      "execution_count": 0,
      "outputs": []
    },
    {
      "cell_type": "code",
      "metadata": {
        "id": "dTfcVEvuaj25",
        "colab_type": "code",
        "colab": {}
      },
      "source": [
        ""
      ],
      "execution_count": 0,
      "outputs": []
    }
  ]
}