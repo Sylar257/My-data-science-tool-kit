{
  "nbformat": 4,
  "nbformat_minor": 0,
  "metadata": {
    "colab": {
      "name": "FastAI-NLP.ipynb",
      "provenance": [],
      "collapsed_sections": [],
      "machine_shape": "hm",
      "include_colab_link": true
    },
    "kernelspec": {
      "name": "python3",
      "display_name": "Python 3"
    },
    "accelerator": "GPU"
  },
  "cells": [
    {
      "cell_type": "markdown",
      "metadata": {
        "id": "view-in-github",
        "colab_type": "text"
      },
      "source": [
        "<a href=\"https://colab.research.google.com/github/Sylar257/My-data-science-tool-kit/blob/master/FastAI_NLP.ipynb\" target=\"_parent\"><img src=\"https://colab.research.google.com/assets/colab-badge.svg\" alt=\"Open In Colab\"/></a>"
      ]
    },
    {
      "cell_type": "markdown",
      "metadata": {
        "id": "aIaO_vj8whbF",
        "colab_type": "text"
      },
      "source": [
        "# Seq-2-Seq translation\n",
        "This notebook is a course note on FastAI NLP course that mainly compares the performance of different algorithm for seq2seq tasks"
      ]
    },
    {
      "cell_type": "code",
      "metadata": {
        "id": "0UuUkep4wRj2",
        "colab_type": "code",
        "colab": {}
      },
      "source": [
        "from fastai.text import *"
      ],
      "execution_count": 0,
      "outputs": []
    },
    {
      "cell_type": "markdown",
      "metadata": {
        "id": "ZwJzgmQUw5St",
        "colab_type": "text"
      },
      "source": [
        "## Download and preprocess data"
      ]
    },
    {
      "cell_type": "code",
      "metadata": {
        "id": "RFlStleUwXUg",
        "colab_type": "code",
        "colab": {}
      },
      "source": [
        "path = Config().data_path()"
      ],
      "execution_count": 0,
      "outputs": []
    },
    {
      "cell_type": "code",
      "metadata": {
        "id": "kv0f5Dmaw_2F",
        "colab_type": "code",
        "colab": {
          "base_uri": "https://localhost:8080/",
          "height": 202
        },
        "outputId": "7c881e70-386d-4593-a271-1cf43c2c2431"
      },
      "source": [
        "! wget https://s3.amazonaws.com/fast-ai-nlp/giga-fren.tgz -P {path}"
      ],
      "execution_count": 4,
      "outputs": [
        {
          "output_type": "stream",
          "text": [
            "--2019-11-19 22:24:21--  https://s3.amazonaws.com/fast-ai-nlp/giga-fren.tgz\n",
            "Resolving s3.amazonaws.com (s3.amazonaws.com)... 52.216.133.149\n",
            "Connecting to s3.amazonaws.com (s3.amazonaws.com)|52.216.133.149|:443... connected.\n",
            "HTTP request sent, awaiting response... 200 OK\n",
            "Length: 2598183296 (2.4G) [application/x-tar]\n",
            "Saving to: ‘/root/.fastai/data/giga-fren.tgz’\n",
            "\n",
            "giga-fren.tgz       100%[===================>]   2.42G  15.5MB/s    in 2m 41s  \n",
            "\n",
            "2019-11-19 22:27:03 (15.4 MB/s) - ‘/root/.fastai/data/giga-fren.tgz’ saved [2598183296/2598183296]\n",
            "\n"
          ],
          "name": "stdout"
        }
      ]
    },
    {
      "cell_type": "code",
      "metadata": {
        "id": "Q0MrS73exDe-",
        "colab_type": "code",
        "colab": {}
      },
      "source": [
        "! tar xf {path}/giga-fren.tgz -C {path}"
      ],
      "execution_count": 0,
      "outputs": []
    },
    {
      "cell_type": "code",
      "metadata": {
        "id": "zpKxHwXexKtW",
        "colab_type": "code",
        "colab": {
          "base_uri": "https://localhost:8080/",
          "height": 50
        },
        "outputId": "81a00a42-7ad2-445d-bf09-04fe3288dea9"
      },
      "source": [
        "path = Config().data_path()/'giga-fren'\n",
        "path.ls()"
      ],
      "execution_count": 6,
      "outputs": [
        {
          "output_type": "execute_result",
          "data": {
            "text/plain": [
              "[PosixPath('/root/.fastai/data/giga-fren/giga-fren.release2.fixed.en'),\n",
              " PosixPath('/root/.fastai/data/giga-fren/giga-fren.release2.fixed.fr')]"
            ]
          },
          "metadata": {
            "tags": []
          },
          "execution_count": 6
        }
      ]
    },
    {
      "cell_type": "code",
      "metadata": {
        "id": "hl-QueyCx6D_",
        "colab_type": "code",
        "colab": {}
      },
      "source": [
        "with open(path/'giga-fren.release2.fixed.fr') as f: fr = f.read().split('\\n')"
      ],
      "execution_count": 0,
      "outputs": []
    },
    {
      "cell_type": "code",
      "metadata": {
        "id": "cwiVUXssx-j3",
        "colab_type": "code",
        "colab": {}
      },
      "source": [
        "with open(path/'giga-fren.release2.fixed.en') as f: en = f.read().split('\\n')"
      ],
      "execution_count": 0,
      "outputs": []
    }
  ]
}